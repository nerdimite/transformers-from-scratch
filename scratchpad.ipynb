{
 "cells": [
  {
   "cell_type": "code",
   "execution_count": 1,
   "source": [
    "import torch"
   ],
   "outputs": [],
   "metadata": {}
  },
  {
   "cell_type": "code",
   "execution_count": 6,
   "source": [
    "torch.arange(0, 10).expand(3, 10)"
   ],
   "outputs": [
    {
     "output_type": "execute_result",
     "data": {
      "text/plain": [
       "tensor([[0, 1, 2, 3, 4, 5, 6, 7, 8, 9],\n",
       "        [0, 1, 2, 3, 4, 5, 6, 7, 8, 9],\n",
       "        [0, 1, 2, 3, 4, 5, 6, 7, 8, 9]])"
      ]
     },
     "metadata": {},
     "execution_count": 6
    }
   ],
   "metadata": {}
  },
  {
   "cell_type": "code",
   "execution_count": 11,
   "source": [
    "torch.tril(torch.ones(7, 7)).expand(2, 1, 7, 7)"
   ],
   "outputs": [
    {
     "output_type": "execute_result",
     "data": {
      "text/plain": [
       "tensor([[[[1., 0., 0., 0., 0., 0., 0.],\n",
       "          [1., 1., 0., 0., 0., 0., 0.],\n",
       "          [1., 1., 1., 0., 0., 0., 0.],\n",
       "          [1., 1., 1., 1., 0., 0., 0.],\n",
       "          [1., 1., 1., 1., 1., 0., 0.],\n",
       "          [1., 1., 1., 1., 1., 1., 0.],\n",
       "          [1., 1., 1., 1., 1., 1., 1.]]],\n",
       "\n",
       "\n",
       "        [[[1., 0., 0., 0., 0., 0., 0.],\n",
       "          [1., 1., 0., 0., 0., 0., 0.],\n",
       "          [1., 1., 1., 0., 0., 0., 0.],\n",
       "          [1., 1., 1., 1., 0., 0., 0.],\n",
       "          [1., 1., 1., 1., 1., 0., 0.],\n",
       "          [1., 1., 1., 1., 1., 1., 0.],\n",
       "          [1., 1., 1., 1., 1., 1., 1.]]]])"
      ]
     },
     "metadata": {},
     "execution_count": 11
    }
   ],
   "metadata": {}
  },
  {
   "cell_type": "code",
   "execution_count": 14,
   "source": [
    "X = torch.tensor([\r\n",
    "    [1, 4, 6, 8, 10, 2, 0, 0],\r\n",
    "    [1, 4, 8, 10, 12, 14, 16, 2]\r\n",
    "])\r\n",
    "y = torch.tensor([\r\n",
    "    [1, 3, 5, 7, 9, 2, 0, 0],\r\n",
    "    [1, 3, 7, 9, 11, 13, 15, 2]\r\n",
    "])"
   ],
   "outputs": [],
   "metadata": {}
  },
  {
   "cell_type": "code",
   "execution_count": 18,
   "source": [
    "X.max()"
   ],
   "outputs": [
    {
     "output_type": "execute_result",
     "data": {
      "text/plain": [
       "tensor(16)"
      ]
     },
     "metadata": {},
     "execution_count": 18
    }
   ],
   "metadata": {}
  },
  {
   "cell_type": "code",
   "execution_count": null,
   "source": [],
   "outputs": [],
   "metadata": {}
  }
 ],
 "metadata": {
  "orig_nbformat": 4,
  "language_info": {
   "name": "python",
   "version": "3.8.10",
   "mimetype": "text/x-python",
   "codemirror_mode": {
    "name": "ipython",
    "version": 3
   },
   "pygments_lexer": "ipython3",
   "nbconvert_exporter": "python",
   "file_extension": ".py"
  },
  "kernelspec": {
   "name": "python3",
   "display_name": "Python 3.8.10 64-bit ('ai': conda)"
  },
  "interpreter": {
   "hash": "60fbf1aecf0122793952a73a80d27bc8732eff9e143c13520ca117508929b1c7"
  }
 },
 "nbformat": 4,
 "nbformat_minor": 2
}